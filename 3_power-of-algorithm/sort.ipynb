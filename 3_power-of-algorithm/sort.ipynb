{
 "cells": [
  {
   "cell_type": "markdown",
   "metadata": {},
   "source": [
    "# 3.2. Array Sort"
   ]
  },
  {
   "cell_type": "markdown",
   "metadata": {},
   "source": [
    "## Python Sort"
   ]
  },
  {
   "cell_type": "code",
   "execution_count": 16,
   "metadata": {},
   "outputs": [
    {
     "name": "stdout",
     "output_type": "stream",
     "text": [
      "a: [30, 75, 69, 16, 47, 77, 60, 80, 74, 8, 77, 1, 60, 33, 70, 29, 24, 91, 60, 69]\n",
      "sa: [1, 8, 16, 24, 29, 30, 33, 47, 60, 60, 60, 69, 69, 70, 74, 75, 77, 77, 80, 91]\n"
     ]
    }
   ],
   "source": [
    "import random\n",
    "random.seed(3)\n",
    "a = [random.randint(0, 99) for i in range(20)]\n",
    "sa = sorted(a)\n",
    "print('a:', a)\n",
    "print('sa:', sa)"
   ]
  },
  {
   "cell_type": "markdown",
   "metadata": {},
   "source": [
    "## Selection Sort"
   ]
  },
  {
   "cell_type": "code",
   "execution_count": 17,
   "metadata": {},
   "outputs": [],
   "source": [
    "def selection_sort(a):\n",
    "    for i in range(len(a)-1):\n",
    "        mn = float('inf')\n",
    "        mni = -1\n",
    "        for j in range(i, len(a)):\n",
    "            if a[j] < mn:\n",
    "                mn = a[j]\n",
    "                mni = j\n",
    "        if mni > 0:\n",
    "            a[mni] = a[i]\n",
    "            a[i] = mn\n",
    "    return a"
   ]
  },
  {
   "cell_type": "code",
   "execution_count": 18,
   "metadata": {},
   "outputs": [
    {
     "name": "stdout",
     "output_type": "stream",
     "text": [
      "sa: [1, 8, 16, 24, 29, 30, 33, 47, 60, 60, 60, 69, 69, 70, 74, 75, 77, 77, 80, 91]\n"
     ]
    }
   ],
   "source": [
    "sa = selection_sort(a)\n",
    "print('sa:', sa)"
   ]
  },
  {
   "cell_type": "markdown",
   "metadata": {},
   "source": [
    "## Time Comparison (Python vs Selection Sort)"
   ]
  },
  {
   "cell_type": "code",
   "execution_count": 19,
   "metadata": {},
   "outputs": [],
   "source": [
    "import timeit"
   ]
  },
  {
   "cell_type": "code",
   "execution_count": 23,
   "metadata": {},
   "outputs": [
    {
     "data": {
      "text/plain": [
       "2.5092063269999016"
      ]
     },
     "execution_count": 23,
     "metadata": {},
     "output_type": "execute_result"
    }
   ],
   "source": [
    "# selection sort\n",
    "a = [random.randint(0, 99) for i in range(10000)]\n",
    "timeit.timeit('selection_sort(a)', globals=globals(), number=1)"
   ]
  },
  {
   "cell_type": "code",
   "execution_count": 24,
   "metadata": {},
   "outputs": [
    {
     "data": {
      "text/plain": [
       "0.0017385830000193891"
      ]
     },
     "execution_count": 24,
     "metadata": {},
     "output_type": "execute_result"
    }
   ],
   "source": [
    "# python sort\n",
    "a = [random.randint(0, 99) for i in range(10000)]\n",
    "timeit.timeit('sorted(a)', globals=globals(), number=1)"
   ]
  }
 ],
 "metadata": {
  "kernelspec": {
   "display_name": "Python 3",
   "language": "python",
   "name": "python3"
  },
  "language_info": {
   "codemirror_mode": {
    "name": "ipython",
    "version": 3
   },
   "file_extension": ".py",
   "mimetype": "text/x-python",
   "name": "python",
   "nbconvert_exporter": "python",
   "pygments_lexer": "ipython3",
   "version": "3.7.4"
  }
 },
 "nbformat": 4,
 "nbformat_minor": 4
}
