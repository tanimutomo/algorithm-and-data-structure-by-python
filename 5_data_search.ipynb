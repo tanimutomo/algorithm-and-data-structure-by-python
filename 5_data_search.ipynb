{
 "cells": [
  {
   "cell_type": "code",
   "execution_count": 2,
   "metadata": {},
   "outputs": [],
   "source": [
    "import random\n",
    "\n",
    "def get_random_array(l, s=0, e=99):\n",
    "    return [random.randint(s, e) for _ in range(l)]"
   ]
  },
  {
   "cell_type": "markdown",
   "metadata": {},
   "source": [
    "# 5.1. Binary Search"
   ]
  },
  {
   "cell_type": "code",
   "execution_count": 83,
   "metadata": {},
   "outputs": [],
   "source": [
    "def binary_search(a, t):\n",
    "    assert len(a) > 0\n",
    "    l, m_, h = 0, -1, len(a)\n",
    "    while True:\n",
    "        m = (l + h) // 2\n",
    "        if m == m_: return 'Not Exist'\n",
    "        m_ = m\n",
    "        if t < a[m]: h = m\n",
    "        elif t > a[m]: l = m\n",
    "        else: return m"
   ]
  },
  {
   "cell_type": "code",
   "execution_count": 102,
   "metadata": {},
   "outputs": [
    {
     "name": "stdout",
     "output_type": "stream",
     "text": [
      "a: [1, 1, 3, 4, 7, 7, 7, 14, 16, 20, 20, 24, 24, 25, 28, 28, 30, 30, 30, 35, 36, 36, 38, 41, 43, 44, 46, 47, 48, 49, 50, 51, 52, 56, 60, 63, 64, 68, 69, 76, 79, 80, 81, 86, 87, 88, 90, 93, 95, 96]\n",
      "p: 30\n"
     ]
    }
   ],
   "source": [
    "a = sorted(get_random_array(50))\n",
    "print('a:', a)\n",
    "t = 50\n",
    "p = binary_search(a, t)\n",
    "print('p:', p)"
   ]
  },
  {
   "cell_type": "markdown",
   "metadata": {},
   "source": [
    "## Binary Search Tree"
   ]
  },
  {
   "cell_type": "code",
   "execution_count": 103,
   "metadata": {},
   "outputs": [],
   "source": [
    "class Node:\n",
    "    def __init__(self, value):\n",
    "        self.value = value\n",
    "        self.left = None\n",
    "        self.right = None\n",
    "        \n",
    "    def __str__(self):\n",
    "        left = f'[{self.left.value}]' if self.left else '[]'\n",
    "        right = f'[{self.right.value}]' if self.right else '[]'\n",
    "        return f'{left} <- {self.value} -> {right}'\n",
    "    \n",
    "\n",
    "class BinarySearchTree:\n",
    "    def __init__(self):\n",
    "        self.nodes = list()\n",
    "        \n",
    "    def add_node(self, value):\n",
    "        node = Node(value)\n",
    "        if self.nodes:\n",
    "            parent, direction = self.find_parent(value)\n",
    "            if direction == 'left':\n",
    "                parent.left = node\n",
    "            else:\n",
    "                parent.right = node\n",
    "        self.nodes.append(node)\n",
    "        \n",
    "    def find_parent(self, value):\n",
    "        node = self.nodes[0]\n",
    "        while node:\n",
    "            p = node\n",
    "            if p.value == value:\n",
    "                raise ValueError()\n",
    "            if p.value > value:\n",
    "                direction = 'left'\n",
    "                node = p.left\n",
    "            else:\n",
    "                direction = 'right'\n",
    "                node = p.right\n",
    "        return p, direction"
   ]
  },
  {
   "cell_type": "code",
   "execution_count": 105,
   "metadata": {},
   "outputs": [
    {
     "name": "stdout",
     "output_type": "stream",
     "text": [
      "[4] <- 10 -> [20]\n",
      "[12] <- 20 -> [30]\n",
      "[] <- 12 -> []\n",
      "[3] <- 4 -> [9]\n",
      "[] <- 3 -> []\n",
      "[] <- 9 -> []\n",
      "[] <- 30 -> []\n"
     ]
    }
   ],
   "source": [
    "btree = BinarySearchTree()\n",
    "for v in [10, 20, 12, 4, 3, 9, 30]:\n",
    "    btree.add_node(v)\n",
    "    \n",
    "for node in btree.nodes:\n",
    "    print(node)"
   ]
  },
  {
   "cell_type": "code",
   "execution_count": null,
   "metadata": {},
   "outputs": [],
   "source": []
  }
 ],
 "metadata": {
  "kernelspec": {
   "display_name": "Python 3",
   "language": "python",
   "name": "python3"
  },
  "language_info": {
   "codemirror_mode": {
    "name": "ipython",
    "version": 3
   },
   "file_extension": ".py",
   "mimetype": "text/x-python",
   "name": "python",
   "nbconvert_exporter": "python",
   "pygments_lexer": "ipython3",
   "version": "3.7.4"
  }
 },
 "nbformat": 4,
 "nbformat_minor": 4
}
