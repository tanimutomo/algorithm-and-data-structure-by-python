{
 "cells": [
  {
   "cell_type": "code",
   "execution_count": 7,
   "metadata": {},
   "outputs": [],
   "source": [
    "import random\n",
    "\n",
    "def get_random_array(l, s=0, e=99):\n",
    "    return [random.randint(s, e) for _ in range(l)]"
   ]
  },
  {
   "cell_type": "markdown",
   "metadata": {},
   "source": [
    "# 5.1. Binary Search"
   ]
  },
  {
   "cell_type": "code",
   "execution_count": 8,
   "metadata": {},
   "outputs": [],
   "source": [
    "def binary_search(a, t):\n",
    "    assert len(a) > 0\n",
    "    l, m_, h = 0, -1, len(a)\n",
    "    while True:\n",
    "        m = (l + h) // 2\n",
    "        if m == m_: return 'Not Exist'\n",
    "        m_ = m\n",
    "        if t < a[m]: h = m\n",
    "        elif t > a[m]: l = m\n",
    "        else: return m"
   ]
  },
  {
   "cell_type": "code",
   "execution_count": 9,
   "metadata": {},
   "outputs": [
    {
     "name": "stdout",
     "output_type": "stream",
     "text": "a: [0, 2, 8, 8, 10, 11, 16, 18, 20, 22, 22, 27, 27, 33, 33, 33, 35, 41, 42, 43, 45, 46, 48, 50, 51, 53, 53, 53, 56, 56, 57, 58, 59, 69, 69, 70, 74, 76, 76, 78, 82, 83, 84, 84, 88, 91, 92, 95, 96, 99]\np: 23\n"
    }
   ],
   "source": [
    "a = sorted(get_random_array(50))\n",
    "print('a:', a)\n",
    "t = 50\n",
    "p = binary_search(a, t)\n",
    "print('p:', p)"
   ]
  },
  {
   "cell_type": "markdown",
   "execution_count": null,
   "metadata": {},
   "outputs": [],
   "source": [
    "# 5.2 Data Structure for Search"
   ]
  },
  {
   "cell_type": "markdown",
   "metadata": {},
   "source": [
    "## Binary Search Tree"
   ]
  },
  {
   "cell_type": "code",
   "execution_count": 10,
   "metadata": {},
   "outputs": [],
   "source": [
    "class Node:\n",
    "    def __init__(self, value):\n",
    "        self.value = value\n",
    "        self.left = None\n",
    "        self.right = None\n",
    "        \n",
    "    def __str__(self):\n",
    "        left = f'[{self.left.value}]' if self.left else '[]'\n",
    "        right = f'[{self.right.value}]' if self.right else '[]'\n",
    "        return f'{left} <- {self.value} -> {right}'\n",
    "    \n",
    "\n",
    "class BinarySearchTree:\n",
    "    def __init__(self):\n",
    "        self.nodes = list()\n",
    "        \n",
    "    def add_node(self, value):\n",
    "        node = Node(value)\n",
    "        if self.nodes:\n",
    "            parent, direction = self.find_parent(value)\n",
    "            if direction == 'left':\n",
    "                parent.left = node\n",
    "            else:\n",
    "                parent.right = node\n",
    "        self.nodes.append(node)\n",
    "        \n",
    "    def find_parent(self, value):\n",
    "        node = self.nodes[0]\n",
    "        while node:\n",
    "            p = node\n",
    "            if p.value == value:\n",
    "                raise ValueError()\n",
    "            if p.value > value:\n",
    "                direction = 'left'\n",
    "                node = p.left\n",
    "            else:\n",
    "                direction = 'right'\n",
    "                node = p.right\n",
    "        return p, direction"
   ]
  },
  {
   "cell_type": "code",
   "execution_count": 11,
   "metadata": {},
   "outputs": [
    {
     "name": "stdout",
     "output_type": "stream",
     "text": "[4] <- 10 -> [20]\n[12] <- 20 -> [30]\n[] <- 12 -> []\n[3] <- 4 -> [9]\n[] <- 3 -> []\n[] <- 9 -> []\n[] <- 30 -> []\n"
    }
   ],
   "source": [
    "btree = BinarySearchTree()\n",
    "for v in [10, 20, 12, 4, 3, 9, 30]:\n",
    "    btree.add_node(v)\n",
    "    \n",
    "for node in btree.nodes:\n",
    "    print(node)"
   ]
  },
  {
   "cell_type": "markdown",
   "execution_count": null,
   "metadata": {},
   "outputs": [],
   "source": [
    "## Heap"
   ]
  },
  {
   "cell_type": "code",
   "execution_count": 14,
   "metadata": {},
   "outputs": [],
   "source": [
    "import heapq\n",
    "\n",
    "def heap_sort(a :list, heap_return :bool =False) -> list:\n",
    "    heap = list()\n",
    "    for v in a:\n",
    "        heapq.heappush(heap, v)\n",
    "    if heap_return:\n",
    "        return heap\n",
    "    else:\n",
    "        return [heapq.heappop(heap) for i in range(len(heap))]"
   ]
  },
  {
   "cell_type": "code",
   "execution_count": 15,
   "metadata": {},
   "outputs": [
    {
     "name": "stdout",
     "output_type": "stream",
     "text": "a: [1, 41, 24, 80, 55, 67, 4, 70, 56, 84, 26, 67, 50, 4, 74]\nh_raw: [1, 26, 4, 56, 41, 50, 4, 80, 70, 84, 55, 67, 67, 24, 74]\nh: [1, 4, 4, 24, 26, 41, 50, 55, 56, 67, 67, 70, 74, 80, 84]\n"
    }
   ],
   "source": [
    "a = get_random_array(15)\n",
    "print('a:', a)\n",
    "h = heap_sort(a, True)\n",
    "print('h_raw:', h)\n",
    "l = heap_sort(a)\n",
    "print('h:', l)"
   ]
  },
  {
   "cell_type": "markdown",
   "execution_count": null,
   "metadata": {},
   "outputs": [],
   "source": [
    "## Hash"
   ]
  },
  {
   "cell_type": "code",
   "execution_count": 18,
   "metadata": {},
   "outputs": [],
   "source": [
    "class HashTable(object):\n",
    "    def __init__(self, table_size=100):\n",
    "        self.data = [[] for i in range(table_size)]\n",
    "        self.n = table_size\n",
    "\n",
    "    def get_hash(self, v):\n",
    "        return hash(v) % self.n\n",
    "\n",
    "    def search(self, key):\n",
    "        i = self.get_hash(key)\n",
    "        for j, v in enumerate(self.data[i]):\n",
    "            if v[0] == key:\n",
    "                return (i, j)\n",
    "        return (i, -1)\n",
    "\n",
    "    def set(self, key, value):\n",
    "        i, j = self.search(key)\n",
    "        if j != -1:\n",
    "            self.data[i][j][1] = value\n",
    "        else:\n",
    "            self.data[i].append([key, value])\n",
    "        \n",
    "    def get(self, key):\n",
    "        i, j = self.search(key)\n",
    "        if j != -1:\n",
    "            return self.data[i][j][1]\n",
    "        raise KeyError(f'{key} was not found in this HashTable!')"
   ]
  },
  {
   "cell_type": "code",
   "execution_count": 23,
   "metadata": {},
   "outputs": [
    {
     "name": "stdout",
     "output_type": "stream",
     "text": "10\n[[], [], [], [], [], [], [], [], [], [], [], [], [], [], [], [], [], [], [], [], [], [], [], [], [], [], [], [], [], [], [], [['taro', 10]], [], [], [], [], [], [], [], [], [], [], [], [], [], [], [], [], [], [], [], [], [], [], [], [], [], [], [], [], [], [], [], [], [], [], [], [], [], [], [], [], [], [], [], [], [], [], [], [], [], [], [], [], [], [], [], [], [], [], [], [], [], [], [], [], [], [], [], []]\n"
    }
   ],
   "source": [
    "htable = HashTable()\n",
    "htable.set('taro', 10)\n",
    "print(htable.get('taro'))\n",
    "print(htable.data)"
   ]
  },
  {
   "cell_type": "code",
   "execution_count": null,
   "metadata": {},
   "outputs": [],
   "source": []
  }
 ],
 "metadata": {
  "kernelspec": {
   "display_name": "Python 3",
   "language": "python",
   "name": "python3"
  },
  "language_info": {
   "codemirror_mode": {
    "name": "ipython",
    "version": 3
   },
   "file_extension": ".py",
   "mimetype": "text/x-python",
   "name": "python",
   "nbconvert_exporter": "python",
   "pygments_lexer": "ipython3",
   "version": "3.7.4-final"
  }
 },
 "nbformat": 4,
 "nbformat_minor": 4
}