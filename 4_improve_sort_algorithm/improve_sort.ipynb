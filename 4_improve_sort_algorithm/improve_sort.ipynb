{
 "cells": [
  {
   "cell_type": "markdown",
   "metadata": {},
   "source": [
    "# Improve Sort Algorithm"
   ]
  },
  {
   "cell_type": "code",
   "execution_count": 64,
   "metadata": {},
   "outputs": [],
   "source": [
    "# imports\n",
    "import math\n",
    "import random"
   ]
  },
  {
   "cell_type": "code",
   "execution_count": 39,
   "metadata": {},
   "outputs": [],
   "source": [
    "# util functions\n",
    "def get_random_array(l, s=0, e=99):\n",
    "    return [random.randint(s, e) for _ in range(l)]"
   ]
  },
  {
   "cell_type": "markdown",
   "metadata": {},
   "source": [
    "## Merge Sort"
   ]
  },
  {
   "cell_type": "code",
   "execution_count": 34,
   "metadata": {},
   "outputs": [],
   "source": [
    "def merge_array(left, right=[]):\n",
    "    merged = list()\n",
    "    i, j = 0, 0\n",
    "    max_iter = len(left) + len(right)\n",
    "    for _ in range(max_iter):\n",
    "        if i == len(left) or j == len(right):\n",
    "            break\n",
    "        if left[i] <= right[j]:\n",
    "            merged.append(left[i])\n",
    "            i += 1\n",
    "        else:\n",
    "            merged.append(right[j])\n",
    "            j += 1\n",
    "    return merged + left[i:] + right[j:]"
   ]
  },
  {
   "cell_type": "code",
   "execution_count": 41,
   "metadata": {},
   "outputs": [
    {
     "name": "stdout",
     "output_type": "stream",
     "text": [
      "a: [2, 3, 29, 31, 31, 39, 62, 68, 83, 84]\n",
      "b: [39, 40, 45, 48, 62, 73, 76, 78, 83, 90]\n",
      "merged: [2, 3, 29, 31, 31, 39, 39, 40, 45, 48, 62, 62, 68, 73, 76, 78, 83, 83, 84, 90]\n"
     ]
    }
   ],
   "source": [
    "a = sorted(get_random_array(10))\n",
    "b = sorted(get_random_array(10))\n",
    "print('a:', a)\n",
    "print('b:', b)\n",
    "print('merged:', merge_array(a, b))"
   ]
  },
  {
   "cell_type": "code",
   "execution_count": 42,
   "metadata": {},
   "outputs": [],
   "source": [
    "def step(a):\n",
    "    num_iter = math.ceil(len(a) / 2)\n",
    "    m = list()\n",
    "    for i in range(num_iter):\n",
    "        lr = a[i*2 : (i+1)*2]\n",
    "        m.append(merge_array(*lr))\n",
    "    return m"
   ]
  },
  {
   "cell_type": "code",
   "execution_count": 43,
   "metadata": {},
   "outputs": [
    {
     "name": "stdout",
     "output_type": "stream",
     "text": [
      "step0: [[98], [90], [74], [77], [87], [58], [97], [43], [14], [65], [60], [24], [39], [91], [51]]\n",
      "step1: [[90, 98], [74, 77], [58, 87], [43, 97], [14, 65], [24, 60], [39, 91], [51]]\n",
      "step2: [[74, 77, 90, 98], [43, 58, 87, 97], [14, 24, 60, 65], [39, 51, 91]]\n",
      "step3: [[43, 58, 74, 77, 87, 90, 97, 98], [14, 24, 39, 51, 60, 65, 91]]\n",
      "step4: [[14, 24, 39, 43, 51, 58, 60, 65, 74, 77, 87, 90, 91, 97, 98]]\n"
     ]
    }
   ],
   "source": [
    "a = get_random_array(15)\n",
    "a = [[e] for e in a]\n",
    "\n",
    "for i in range(len(a)):\n",
    "    print(f'step{i}:', a)\n",
    "    if len(a) == 1:\n",
    "        break\n",
    "    a = step(a)"
   ]
  },
  {
   "cell_type": "code",
   "execution_count": 44,
   "metadata": {},
   "outputs": [],
   "source": [
    "def merge_sort(a):\n",
    "    a = [[e] for e in a]\n",
    "    for _ in range(len(a)):\n",
    "        if len(a) == 1:\n",
    "            break\n",
    "        a = step(a)\n",
    "    return a"
   ]
  },
  {
   "cell_type": "code",
   "execution_count": 46,
   "metadata": {},
   "outputs": [
    {
     "name": "stdout",
     "output_type": "stream",
     "text": [
      "a: [64, 61, 5, 39, 96, 84, 42, 32, 17, 16, 11, 53, 68, 48, 82]\n",
      "m: [[5, 11, 16, 17, 32, 39, 42, 48, 53, 61, 64, 68, 82, 84, 96]]\n"
     ]
    }
   ],
   "source": [
    "a = get_random_array(15)\n",
    "print('a:', a)\n",
    "m = merge_sort(a)\n",
    "print('m:', m)"
   ]
  },
  {
   "cell_type": "markdown",
   "metadata": {},
   "source": [
    "### Recursive Merge Sort"
   ]
  },
  {
   "cell_type": "code",
   "execution_count": 62,
   "metadata": {},
   "outputs": [],
   "source": [
    "def recursive_merge_sort(a):\n",
    "    if len(a) <= 1:\n",
    "        return a\n",
    "    mid = len(a) // 2\n",
    "    l = a[:mid]\n",
    "    r = a[mid:]\n",
    "    return merge_array(\n",
    "        recursive_merge_sort(l),\n",
    "        recursive_merge_sort(r)\n",
    "    )"
   ]
  },
  {
   "cell_type": "code",
   "execution_count": 63,
   "metadata": {},
   "outputs": [
    {
     "name": "stdout",
     "output_type": "stream",
     "text": [
      "a: [35, 79, 65, 79, 74, 97, 68, 46, 38, 53, 5, 69, 50, 22, 90]\n",
      "m: [5, 22, 35, 38, 46, 50, 53, 65, 68, 69, 74, 79, 79, 90, 97]\n"
     ]
    }
   ],
   "source": [
    "a = get_random_array(15)\n",
    "print('a:', a)\n",
    "m = recursive_merge_sort(a)\n",
    "print('m:', m)"
   ]
  },
  {
   "cell_type": "markdown",
   "metadata": {},
   "source": [
    "## Quick Sort"
   ]
  }
 ],
 "metadata": {
  "kernelspec": {
   "display_name": "Python 3",
   "language": "python",
   "name": "python3"
  },
  "language_info": {
   "codemirror_mode": {
    "name": "ipython",
    "version": 3
   },
   "file_extension": ".py",
   "mimetype": "text/x-python",
   "name": "python",
   "nbconvert_exporter": "python",
   "pygments_lexer": "ipython3",
   "version": "3.7.4"
  }
 },
 "nbformat": 4,
 "nbformat_minor": 4
}
