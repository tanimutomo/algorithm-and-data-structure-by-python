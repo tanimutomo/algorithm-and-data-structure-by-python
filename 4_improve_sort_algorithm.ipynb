{
 "cells": [
  {
   "cell_type": "markdown",
   "metadata": {},
   "source": [
    "# Improve Sort Algorithm"
   ]
  },
  {
   "cell_type": "code",
   "execution_count": 1,
   "metadata": {},
   "outputs": [],
   "source": [
    "# imports\n",
    "import math\n",
    "import random"
   ]
  },
  {
   "cell_type": "code",
   "execution_count": 2,
   "metadata": {},
   "outputs": [],
   "source": [
    "# util functions\n",
    "def get_random_array(l, s=0, e=99):\n",
    "    return [random.randint(s, e) for _ in range(l)]"
   ]
  },
  {
   "cell_type": "markdown",
   "metadata": {},
   "source": [
    "## Merge Sort"
   ]
  },
  {
   "cell_type": "code",
   "execution_count": 3,
   "metadata": {},
   "outputs": [],
   "source": [
    "def merge_array(left, right=[]):\n",
    "    merged = list()\n",
    "    i, j = 0, 0\n",
    "    max_iter = len(left) + len(right)\n",
    "    for _ in range(max_iter):\n",
    "        if i == len(left) or j == len(right):\n",
    "            break\n",
    "        if left[i] <= right[j]:\n",
    "            merged.append(left[i])\n",
    "            i += 1\n",
    "        else:\n",
    "            merged.append(right[j])\n",
    "            j += 1\n",
    "    return merged + left[i:] + right[j:]"
   ]
  },
  {
   "cell_type": "code",
   "execution_count": 4,
   "metadata": {},
   "outputs": [
    {
     "name": "stdout",
     "output_type": "stream",
     "text": [
      "a: [0, 0, 14, 23, 52, 55, 67, 77, 84, 85]\n",
      "b: [2, 6, 13, 23, 23, 32, 55, 65, 67, 94]\n",
      "merged: [0, 0, 2, 6, 13, 14, 23, 23, 23, 32, 52, 55, 55, 65, 67, 67, 77, 84, 85, 94]\n"
     ]
    }
   ],
   "source": [
    "a = sorted(get_random_array(10))\n",
    "b = sorted(get_random_array(10))\n",
    "print('a:', a)\n",
    "print('b:', b)\n",
    "print('merged:', merge_array(a, b))"
   ]
  },
  {
   "cell_type": "code",
   "execution_count": 5,
   "metadata": {},
   "outputs": [],
   "source": [
    "def step(a):\n",
    "    num_iter = math.ceil(len(a) / 2)\n",
    "    m = list()\n",
    "    for i in range(num_iter):\n",
    "        lr = a[i*2 : (i+1)*2]\n",
    "        m.append(merge_array(*lr))\n",
    "    return m"
   ]
  },
  {
   "cell_type": "code",
   "execution_count": 6,
   "metadata": {},
   "outputs": [
    {
     "name": "stdout",
     "output_type": "stream",
     "text": [
      "step0: [[80], [68], [88], [68], [64], [6], [49], [66], [53], [38], [50], [67], [19], [96], [50]]\n",
      "step1: [[68, 80], [68, 88], [6, 64], [49, 66], [38, 53], [50, 67], [19, 96], [50]]\n",
      "step2: [[68, 68, 80, 88], [6, 49, 64, 66], [38, 50, 53, 67], [19, 50, 96]]\n",
      "step3: [[6, 49, 64, 66, 68, 68, 80, 88], [19, 38, 50, 50, 53, 67, 96]]\n",
      "step4: [[6, 19, 38, 49, 50, 50, 53, 64, 66, 67, 68, 68, 80, 88, 96]]\n"
     ]
    }
   ],
   "source": [
    "a = get_random_array(15)\n",
    "a = [[e] for e in a]\n",
    "\n",
    "for i in range(len(a)):\n",
    "    print(f'step{i}:', a)\n",
    "    if len(a) == 1:\n",
    "        break\n",
    "    a = step(a)"
   ]
  },
  {
   "cell_type": "code",
   "execution_count": 7,
   "metadata": {},
   "outputs": [],
   "source": [
    "def merge_sort(a):\n",
    "    a = [[e] for e in a]\n",
    "    for _ in range(len(a)):\n",
    "        if len(a) == 1:\n",
    "            break\n",
    "        a = step(a)\n",
    "    return a"
   ]
  },
  {
   "cell_type": "code",
   "execution_count": 8,
   "metadata": {},
   "outputs": [
    {
     "name": "stdout",
     "output_type": "stream",
     "text": [
      "a: [88, 59, 48, 24, 2, 44, 94, 60, 18, 34, 74, 10, 21, 98, 62]\n",
      "m: [[2, 10, 18, 21, 24, 34, 44, 48, 59, 60, 62, 74, 88, 94, 98]]\n"
     ]
    }
   ],
   "source": [
    "a = get_random_array(15)\n",
    "print('a:', a)\n",
    "m = merge_sort(a)\n",
    "print('m:', m)"
   ]
  },
  {
   "cell_type": "markdown",
   "metadata": {},
   "source": [
    "### Recursive Merge Sort"
   ]
  },
  {
   "cell_type": "code",
   "execution_count": 9,
   "metadata": {},
   "outputs": [],
   "source": [
    "def recursive_merge_sort(a):\n",
    "    if len(a) <= 1:\n",
    "        return a\n",
    "    mid = len(a) // 2\n",
    "    l = a[:mid]\n",
    "    r = a[mid:]\n",
    "    return merge_array(\n",
    "        recursive_merge_sort(l),\n",
    "        recursive_merge_sort(r)\n",
    "    )"
   ]
  },
  {
   "cell_type": "code",
   "execution_count": 10,
   "metadata": {},
   "outputs": [
    {
     "name": "stdout",
     "output_type": "stream",
     "text": [
      "a: [11, 30, 57, 80, 53, 39, 1, 51, 10, 69, 78, 0, 97, 43, 65]\n",
      "m: [0, 1, 10, 11, 30, 39, 43, 51, 53, 57, 65, 69, 78, 80, 97]\n"
     ]
    }
   ],
   "source": [
    "a = get_random_array(15)\n",
    "print('a:', a)\n",
    "m = recursive_merge_sort(a)\n",
    "print('m:', m)"
   ]
  },
  {
   "cell_type": "markdown",
   "metadata": {},
   "source": [
    "## Quick Sort\n",
    "#### 計算量\n",
    "- 基本的には，merge sortと計算量は同等で，`O(nlogn)`\n",
    "- しかし，pivotを配列の中の最大値で毎回選択した場合，`O(n^2)`の計算量になる．\n",
    "\n",
    "#### 乱沢アルゴリズム\n",
    "- アルゴリズムの内部にランダムな要素が含まれており，毎実行挙動が異なるもの\n",
    "- quick sortではpivotの選択をランダムに選択することが一般的であるため，これに含まれる．"
   ]
  },
  {
   "cell_type": "code",
   "execution_count": 13,
   "metadata": {},
   "outputs": [],
   "source": [
    "def quick_sort(a):\n",
    "    if len(a) == 0: return a\n",
    "    p = a[-1]\n",
    "    l, s, e = [], [], []\n",
    "    for ai in a:\n",
    "        if ai > p: l.append(ai)\n",
    "        elif ai < p: s.append(ai)\n",
    "        else: e.append(ai)\n",
    "            \n",
    "    return quick_sort(s) + e + quick_sort(l)"
   ]
  },
  {
   "cell_type": "code",
   "execution_count": 14,
   "metadata": {},
   "outputs": [
    {
     "name": "stdout",
     "output_type": "stream",
     "text": [
      "a: [80, 53, 49, 4, 68, 75, 17, 48, 41, 42, 96, 30, 81, 44, 36]\n",
      "q: [4, 17, 30, 36, 41, 42, 44, 48, 49, 53, 68, 75, 80, 81, 96]\n"
     ]
    }
   ],
   "source": [
    "a = get_random_array(15)\n",
    "print('a:', a)\n",
    "q = quick_sort(a)\n",
    "print('q:', q)"
   ]
  }
 ],
 "metadata": {
  "kernelspec": {
   "display_name": "Python 3",
   "language": "python",
   "name": "python3"
  },
  "language_info": {
   "codemirror_mode": {
    "name": "ipython",
    "version": 3
   },
   "file_extension": ".py",
   "mimetype": "text/x-python",
   "name": "python",
   "nbconvert_exporter": "python",
   "pygments_lexer": "ipython3",
   "version": "3.7.4"
  }
 },
 "nbformat": 4,
 "nbformat_minor": 4
}
